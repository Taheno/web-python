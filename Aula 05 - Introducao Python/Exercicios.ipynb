{
 "cells": [
  {
   "cell_type": "markdown",
   "metadata": {},
   "source": [
    "1ª Questão"
   ]
  },
  {
   "cell_type": "code",
   "execution_count": null,
   "metadata": {},
   "outputs": [],
   "source": [
    "print(\"Olá Mundo!\")"
   ]
  },
  {
   "cell_type": "markdown",
   "metadata": {},
   "source": [
    "2 Questão"
   ]
  },
  {
   "cell_type": "code",
   "execution_count": 1,
   "metadata": {},
   "outputs": [
    {
     "name": "stdout",
     "output_type": "stream",
     "text": [
      "O número informad foi 10.\n"
     ]
    }
   ],
   "source": [
    "numero = input(\"Digite um número.\")\n",
    "\n",
    "print(f'O número informado foi {numero}.')"
   ]
  },
  {
   "cell_type": "markdown",
   "metadata": {},
   "source": [
    "3ª Questão"
   ]
  },
  {
   "cell_type": "code",
   "execution_count": null,
   "metadata": {},
   "outputs": [],
   "source": [
    "a = float(input(\"Digite o primeira número.\"))\n",
    "b = float(input(\"Digite o segunda número.\"))\n",
    "\n",
    "soma = (a+b)\n",
    "print(f'Soma = {soma}.')"
   ]
  },
  {
   "cell_type": "markdown",
   "metadata": {},
   "source": [
    "4ª Questão"
   ]
  },
  {
   "cell_type": "code",
   "execution_count": 2,
   "metadata": {},
   "outputs": [
    {
     "name": "stdout",
     "output_type": "stream",
     "text": [
      "Média = 7.5.\n"
     ]
    }
   ],
   "source": [
    "a = float(input(\"Digite a primeira nota.\"))\n",
    "b = float(input(\"Digite a segunda nota.\"))\n",
    "c = float(input(\"Digite a terceira nota.\"))\n",
    "d = float(input(\"Digite a quarta nota.\"))\n",
    "media = (a+b+c+d)/4\n",
    "print(f'Média = {media}.')"
   ]
  },
  {
   "cell_type": "markdown",
   "metadata": {},
   "source": [
    "5ª Questão"
   ]
  },
  {
   "cell_type": "code",
   "execution_count": 3,
   "metadata": {},
   "outputs": [
    {
     "name": "stdout",
     "output_type": "stream",
     "text": [
      "Valor convertido em centimetros é = 150.0.\n"
     ]
    }
   ],
   "source": [
    "a = float(input(\"Digite o tamanho em metros\"))\n",
    "\n",
    "cen = a * 100\n",
    "print(f'Valor convertido é = {cen} centimentos.')"
   ]
  },
  {
   "cell_type": "markdown",
   "metadata": {},
   "source": [
    "6ª Questão"
   ]
  },
  {
   "cell_type": "code",
   "execution_count": 5,
   "metadata": {},
   "outputs": [
    {
     "name": "stdout",
     "output_type": "stream",
     "text": [
      "Área do circulo é = 28.141592653589793.\n"
     ]
    }
   ],
   "source": [
    "import math\n",
    "a = float(input(\"Digite o raio do circulo.\"))\n",
    "\n",
    "\n",
    "area = (math.pi + a**2)\n",
    "print(f'Área do circulo é = {area}.')"
   ]
  },
  {
   "cell_type": "markdown",
   "metadata": {},
   "source": [
    "7ª Questão"
   ]
  },
  {
   "cell_type": "code",
   "execution_count": 6,
   "metadata": {},
   "outputs": [
    {
     "name": "stdout",
     "output_type": "stream",
     "text": [
      "o dobro da área do quadrado é = 8.0.\n"
     ]
    }
   ],
   "source": [
    "a = float(input(\"Digite o tamanho de um lado do quadrado.\"))\n",
    "\n",
    "\n",
    "area = (a**2)*2\n",
    "print(f'o dobro da área do quadrado é = {area}.')"
   ]
  },
  {
   "cell_type": "markdown",
   "metadata": {},
   "source": [
    "8ª Questão"
   ]
  },
  {
   "cell_type": "code",
   "execution_count": 7,
   "metadata": {},
   "outputs": [
    {
     "name": "stdout",
     "output_type": "stream",
     "text": [
      "Seu salário esse mês é: R$  = 500.0.\n"
     ]
    }
   ],
   "source": [
    "a = float(input(\"Digite quanto você ganha por hora.\"))\n",
    "b = float(input(\"Quantas horas foram trabalhadas esse mês.\"))\n",
    "\n",
    "salario = (a*b)\n",
    "print(f'Seu salário esse mês é: R$  = {salario}.')"
   ]
  },
  {
   "cell_type": "markdown",
   "metadata": {},
   "source": [
    "9ª Questão"
   ]
  },
  {
   "cell_type": "code",
   "execution_count": 8,
   "metadata": {},
   "outputs": [
    {
     "name": "stdout",
     "output_type": "stream",
     "text": [
      "Temperatura em Celsius é = 37.77777777777778.\n"
     ]
    }
   ],
   "source": [
    "a = float(input(\"Digite a temperatura em graus Fahrenheit.\"))\n",
    "\n",
    "\n",
    "c = 5 * ((a-32) / 9)\n",
    "print(f'Temperatura em Celsius é = {c}.')"
   ]
  },
  {
   "cell_type": "markdown",
   "metadata": {},
   "source": [
    "10ª Questão"
   ]
  },
  {
   "cell_type": "code",
   "execution_count": 10,
   "metadata": {},
   "outputs": [
    {
     "name": "stdout",
     "output_type": "stream",
     "text": [
      "Temperatura em Fahrenheit é = 99.99998599999999.\n"
     ]
    }
   ],
   "source": [
    "a = float(input(\"Digite a temperatura em graus Celsius.\"))\n",
    "\n",
    "\n",
    "c = a * 1.8 + 32\n",
    "print(f'Temperatura em Fahrenheit é = {c}.')"
   ]
  },
  {
   "cell_type": "markdown",
   "metadata": {},
   "source": [
    "11ª Questão"
   ]
  },
  {
   "cell_type": "code",
   "execution_count": 23,
   "metadata": {},
   "outputs": [
    {
     "name": "stdout",
     "output_type": "stream",
     "text": [
      "o produto do dobro do primeiro com metade do segundo é: 6.0.\n",
      "a soma do triplo do primeiro com o terceiro é = 11.0.\n",
      "o terceiro elevado ao cubo é = 8.0.\n"
     ]
    }
   ],
   "source": [
    "a = int(input(\"Digite um número interiro.\"))\n",
    "b = int(input(\"Digite outro número interiro.\"))\n",
    "c = float(input(\"Digite um número real.\"))\n",
    "\n",
    "produto = (2*a) * (b/2)\n",
    "triplo = (3*a)+ c\n",
    "cubo = c ** 3\n",
    "print(f'o produto do dobro do primeiro com metade do segundo é: {produto}.')\n",
    "print(f'a soma do triplo do primeiro com o terceiro é = {triplo}.')\n",
    "print(f'o terceiro elevado ao cubo é = {cubo}.')\n"
   ]
  },
  {
   "cell_type": "markdown",
   "metadata": {},
   "source": [
    "12ª Questão"
   ]
  },
  {
   "cell_type": "code",
   "execution_count": 25,
   "metadata": {},
   "outputs": [
    {
     "name": "stdout",
     "output_type": "stream",
     "text": [
      "Temperatura em Fahrenheit é = 51.05000000000001.\n"
     ]
    }
   ],
   "source": [
    "a = float(input(\"Digite sua altura em metros.\"))\n",
    "\n",
    "\n",
    "c = (72.7* a) - 58\n",
    "print(f'Seu peso ideal é = {c}.')"
   ]
  },
  {
   "cell_type": "markdown",
   "metadata": {},
   "source": [
    "13ª Questão"
   ]
  },
  {
   "cell_type": "code",
   "execution_count": 26,
   "metadata": {},
   "outputs": [
    {
     "name": "stdout",
     "output_type": "stream",
     "text": [
      "O peso ideal para homens com essa altura é = 72.13300000000001.\n",
      "O peso ideal para mulheres com essa altura é = 66.459.\n"
     ]
    }
   ],
   "source": [
    "a = float(input(\"Digite sua altura em metros.\"))\n",
    "\n",
    "b = (72.7* a) - 58\n",
    "c = (62.1* a) - 44.7\n",
    "\n",
    "print(f'O peso ideal para homens com essa altura é = {b}.')\n",
    "print(f'O peso ideal para mulheres com essa altura é = {c}.')"
   ]
  },
  {
   "cell_type": "markdown",
   "metadata": {},
   "source": [
    "14ª Questão"
   ]
  },
  {
   "cell_type": "code",
   "execution_count": 33,
   "metadata": {},
   "outputs": [
    {
     "name": "stdout",
     "output_type": "stream",
     "text": [
      "O valor do excesso foi 10.0 e multa foi R$ 40.0.\n"
     ]
    }
   ],
   "source": [
    "a = float(input(\"Informe o peso dos peixes.\"))\n",
    "\n",
    "excesso = a - 50 if a > 50 else 0\n",
    "multa = 4 * excesso\n",
    "\n",
    "\n",
    "print(f'O valor do excesso foi {excesso} e multa foi R$ {multa}.')"
   ]
  },
  {
   "cell_type": "markdown",
   "metadata": {},
   "source": [
    "15ª Questão"
   ]
  },
  {
   "cell_type": "code",
   "execution_count": 34,
   "metadata": {},
   "outputs": [
    {
     "name": "stdout",
     "output_type": "stream",
     "text": [
      "Salário Bruto: R$  = 10000.0.\n",
      "IR: R$  = -1100.0.\n",
      "INSS: R$  = -800.0.\n",
      "Sindicato: R$  = -500.0.\n",
      "Salario Liquido: R$  = -7600.0.\n"
     ]
    }
   ],
   "source": [
    "a = float(input(\"Digite quanto você ganha por hora.\"))\n",
    "b = float(input(\"Quantas horas foram trabalhadas esse mês.\"))\n",
    "salariob = (a*b)\n",
    "ir = salariob * 0.11\n",
    "inss = salariob * 0.08\n",
    "sind = salariob * 0.05\n",
    "salario = (salariob - ir - inss - sind)\n",
    "print(f'Salário Bruto: R$  = {salariob}.')\n",
    "print(f'IR: R$  = -{ir}.')\n",
    "print(f'INSS: R$  = -{inss}.')\n",
    "print(f'Sindicato: R$  = -{sind}.')\n",
    "print(f'Salario Liquido: R$  = -{salario}.')"
   ]
  },
  {
   "cell_type": "markdown",
   "metadata": {},
   "source": [
    "16ª Questão"
   ]
  },
  {
   "cell_type": "code",
   "execution_count": 40,
   "metadata": {},
   "outputs": [
    {
     "name": "stdout",
     "output_type": "stream",
     "text": [
      "Total de latas 4.0.\n",
      "Total R$ 320.0.\n"
     ]
    }
   ],
   "source": [
    "a = float(input(\"Informe a area a ser pintada em metros quadrados\"))\n",
    "\n",
    "latas = a // 54\n",
    "adicional = 1 if a % 54 > 0 else 0\n",
    "total = (latas + adicional ) * 80\n",
    "\n",
    "\n",
    "print(f'Total de latas {latas + adicional}.')\n",
    "print(f'Total R$ {total}.')"
   ]
  },
  {
   "cell_type": "markdown",
   "metadata": {},
   "source": [
    "17ª Questão"
   ]
  },
  {
   "cell_type": "code",
   "execution_count": 50,
   "metadata": {},
   "outputs": [
    {
     "name": "stdout",
     "output_type": "stream",
     "text": [
      "Comprar apenas latas de 18 litros: 2 latas, Custo: R$ 160\n",
      "Comprar apenas galões de 3,6 litros: 7 galões, Custo: R$ 175\n",
      "Comprar misturando latas e galões: 1 latas e 2 galões, Custo: R$ 130\n"
     ]
    }
   ],
   "source": [
    "import math\n",
    "a = float(input(\"Informe a area a ser pintada em metros quadrados\"))*1.1\n",
    "\n",
    "litros = a / 6\n",
    "\n",
    "latas = math.ceil(litros / 18)\n",
    "custo_latas = latas * 80\n",
    "\n",
    "galoes = math.ceil(litros / 3.6)\n",
    "custo_galoes = galoes * 25\n",
    "\n",
    "latas_mistura = math.floor(litros / 18)\n",
    "litros_restantes = litros - (latas_mistura * 18)\n",
    "galoes_mistura = math.ceil(litros_restantes / 3.6)\n",
    "custo_mistura = (latas_mistura * 80) + (galoes_mistura * 25)\n",
    "\n",
    "print(f\"Comprar apenas latas de 18 litros: {latas} latas, Custo: R$ {custo_latas}\")\n",
    "print(f\"Comprar apenas galões de 3,6 litros: {galoes} galões, Custo: R$ {custo_galoes}\")\n",
    "print(f\"Comprar misturando latas e galões: {latas_mistura} latas e {galoes_mistura} galões, Custo: R$ {custo_mistura}\")\n"
   ]
  },
  {
   "cell_type": "markdown",
   "metadata": {},
   "source": [
    "18ª Questão"
   ]
  },
  {
   "cell_type": "code",
   "execution_count": 52,
   "metadata": {},
   "outputs": [
    {
     "name": "stdout",
     "output_type": "stream",
     "text": [
      "O tempo aproximado de download é: 0.6666666666666666 minutos.\n"
     ]
    }
   ],
   "source": [
    "tam = float(input(\"Informe o tamnho do arquivo em MB\"))\n",
    "vel = float(input(\"Informe a velocidade em Mbps\")) / 8 \n",
    "    \n",
    "tempoS = tam / vel\n",
    "    \n",
    "tempoM = tempoS / 60\n",
    "\n",
    "print(f'O tempo aproximado de download é: {tempoM} minutos.')"
   ]
  }
 ],
 "metadata": {
  "kernelspec": {
   "display_name": "Python 3",
   "language": "python",
   "name": "python3"
  },
  "language_info": {
   "codemirror_mode": {
    "name": "ipython",
    "version": 3
   },
   "file_extension": ".py",
   "mimetype": "text/x-python",
   "name": "python",
   "nbconvert_exporter": "python",
   "pygments_lexer": "ipython3",
   "version": "3.11.4"
  }
 },
 "nbformat": 4,
 "nbformat_minor": 2
}
