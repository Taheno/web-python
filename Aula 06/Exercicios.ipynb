{
 "cells": [
  {
   "cell_type": "markdown",
   "metadata": {},
   "source": [
    "1ª Questão"
   ]
  },
  {
   "cell_type": "code",
   "execution_count": 6,
   "metadata": {},
   "outputs": [
    {
     "name": "stdout",
     "output_type": "stream",
     "text": [
      "Média: 9.25\n",
      "APROVADO\n"
     ]
    }
   ],
   "source": [
    "soma =0\n",
    "for i in range(1,5,1):\n",
    "    num = float(input(f'Digite a {i}ª nota.'))\n",
    "    soma += num\n",
    "media = soma/4\n",
    "print(f'Média: {media}')\n",
    "if media < 7:\n",
    "    print(\"REPROVADO\")\n",
    "elif media < 10:\n",
    "    print(\"APROVADO\")\n",
    "else : \n",
    "    print(\"Aproado com distinção\")"
   ]
  },
  {
   "cell_type": "markdown",
   "metadata": {},
   "source": [
    "2ª Questão"
   ]
  },
  {
   "cell_type": "code",
   "execution_count": 7,
   "metadata": {},
   "outputs": [
    {
     "name": "stdout",
     "output_type": "stream",
     "text": [
      "O produto mais barato custa R$ 10.0\n"
     ]
    }
   ],
   "source": [
    "barato = 99999999999\n",
    "for i in range(3):\n",
    "    num = float(input(f'Digite o valor do  {i}ª produto.'))\n",
    "    if num < barato:\n",
    "        barato = num\n",
    "print(f'O produto mais barato, custa R$ {barato}')"
   ]
  },
  {
   "cell_type": "markdown",
   "metadata": {},
   "source": [
    "3ª Questão"
   ]
  },
  {
   "cell_type": "code",
   "execution_count": 41,
   "metadata": {},
   "outputs": [
    {
     "name": "stdout",
     "output_type": "stream",
     "text": [
      "[10.0, 5.0, 2.0]\n"
     ]
    }
   ],
   "source": [
    "num=[]\n",
    "for i in range(3):\n",
    "    a = (float(input(f'Digite o valor do  {i+1}º número.')))\n",
    "    num.append(a)\n",
    "num.sort(reverse=True)\n",
    "print(num)\n",
    "\n"
   ]
  },
  {
   "cell_type": "markdown",
   "metadata": {},
   "source": [
    "4ª Questão"
   ]
  },
  {
   "cell_type": "code",
   "execution_count": 8,
   "metadata": {},
   "outputs": [
    {
     "name": "stdout",
     "output_type": "stream",
     "text": [
      "O produto mais caro, custa R$ 100.0\n"
     ]
    }
   ],
   "source": [
    "caro = 0\n",
    "for i in range(10):\n",
    "    num = float(input(f'Digite o valor do  {i}ª produto.'))\n",
    "    if num > caro:\n",
    "        caro = num\n",
    "print(f'O produto mais caro, custa R$ {caro}')"
   ]
  }
 ],
 "metadata": {
  "kernelspec": {
   "display_name": "Python 3",
   "language": "python",
   "name": "python3"
  },
  "language_info": {
   "codemirror_mode": {
    "name": "ipython",
    "version": 3
   },
   "file_extension": ".py",
   "mimetype": "text/x-python",
   "name": "python",
   "nbconvert_exporter": "python",
   "pygments_lexer": "ipython3",
   "version": "3.13.0"
  }
 },
 "nbformat": 4,
 "nbformat_minor": 2
}
