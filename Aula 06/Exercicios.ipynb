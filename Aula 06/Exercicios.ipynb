{
 "cells": [
  {
   "cell_type": "markdown",
   "metadata": {},
   "source": [
    "1ª Questão"
   ]
  },
  {
   "cell_type": "code",
   "execution_count": 6,
   "metadata": {},
   "outputs": [
    {
     "name": "stdout",
     "output_type": "stream",
     "text": [
      "Média: 9.25\n",
      "APROVADO\n"
     ]
    }
   ],
   "source": [
    "soma =0\n",
    "for i in range(1,5,1):\n",
    "    num = float(input(f'Digite a {i}ª nota.'))\n",
    "    soma += num\n",
    "media = soma/4\n",
    "print(f'Média: {media}')\n",
    "if media < 7:\n",
    "    print(\"REPROVADO\")\n",
    "elif media < 10:\n",
    "    print(\"APROVADO\")\n",
    "else : \n",
    "    print(\"Aproado com distinção\")"
   ]
  },
  {
   "cell_type": "markdown",
   "metadata": {},
   "source": [
    "2ª Questão"
   ]
  },
  {
   "cell_type": "code",
   "execution_count": 7,
   "metadata": {},
   "outputs": [
    {
     "name": "stdout",
     "output_type": "stream",
     "text": [
      "O produto mais barato custa R$ 10.0\n"
     ]
    }
   ],
   "source": [
    "barato = 99999999999\n",
    "for i in range(3):\n",
    "    num = float(input(f'Digite o valor do  {i}ª produto.'))\n",
    "    if num < barato:\n",
    "        barato = num\n",
    "print(f'O produto mais barato, custa R$ {barato}')"
   ]
  },
  {
   "cell_type": "markdown",
   "metadata": {},
   "source": [
    "3ª Questão"
   ]
  },
  {
   "cell_type": "code",
   "execution_count": 43,
   "metadata": {},
   "outputs": [
    {
     "ename": "NameError",
     "evalue": "name 'count' is not defined",
     "output_type": "error",
     "traceback": [
      "\u001b[1;31m---------------------------------------------------------------------------\u001b[0m",
      "\u001b[1;31mNameError\u001b[0m                                 Traceback (most recent call last)",
      "Cell \u001b[1;32mIn[43], line 6\u001b[0m\n\u001b[0;32m      4\u001b[0m     num\u001b[38;5;241m.\u001b[39mappend(a)\n\u001b[0;32m      5\u001b[0m num\u001b[38;5;241m.\u001b[39msort(reverse\u001b[38;5;241m=\u001b[39m\u001b[38;5;28;01mTrue\u001b[39;00m)\n\u001b[1;32m----> 6\u001b[0m \u001b[38;5;28mprint\u001b[39m(\u001b[43mcount\u001b[49m(num))\n\u001b[0;32m      7\u001b[0m \u001b[38;5;28mprint\u001b[39m(num)\n",
      "\u001b[1;31mNameError\u001b[0m: name 'count' is not defined"
     ]
    }
   ],
   "source": [
    "num=[]\n",
    "for i in range(3):\n",
    "    a = (float(input(f'Digite o valor do  {i+1}º número.')))\n",
    "    num.append(a)\n",
    "num.sort(reverse=True)\n",
    "print(num)\n",
    "\n"
   ]
  },
  {
   "cell_type": "markdown",
   "metadata": {},
   "source": [
    "4ª Questão"
   ]
  },
  {
   "cell_type": "code",
   "execution_count": 8,
   "metadata": {},
   "outputs": [
    {
     "name": "stdout",
     "output_type": "stream",
     "text": [
      "O produto mais caro, custa R$ 100.0\n"
     ]
    }
   ],
   "source": [
    "caro = 0\n",
    "for i in range(10):\n",
    "    num = float(input(f'Digite o valor do  {i}ª produto.'))\n",
    "    if num > caro:\n",
    "        caro = num\n",
    "print(f'O produto mais caro, custa R$ {caro}')"
   ]
  }
 ],
 "metadata": {
  "kernelspec": {
   "display_name": "Python 3",
   "language": "python",
   "name": "python3"
  },
  "language_info": {
   "codemirror_mode": {
    "name": "ipython",
    "version": 3
   },
   "file_extension": ".py",
   "mimetype": "text/x-python",
   "name": "python",
   "nbconvert_exporter": "python",
   "pygments_lexer": "ipython3",
   "version": "3.13.0"
  }
 },
 "nbformat": 4,
 "nbformat_minor": 2
}
